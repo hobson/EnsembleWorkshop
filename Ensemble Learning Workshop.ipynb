{
 "cells": [
  {
   "cell_type": "markdown",
   "metadata": {},
   "source": [
    "# Ensemble Learning Workshop\n",
    "www.PortlandDataScience.com\n",
    "\n",
    "This notebook loacted [https://github.com/TheGrimmScientist/EnsembleWorkshop](https://github.com/TheGrimmScientist/EnsembleWorkshop)\n",
    "\n",
    "View it online [here](http://nbviewer.ipython.org/github/TheGrimmScientist/EnsembleWorkshop/blob/master/Ensemble%20Learning%20Workshop.ipynb)"
   ]
  },
  {
   "cell_type": "markdown",
   "metadata": {},
   "source": [
    "## Digits dataset"
   ]
  },
  {
   "cell_type": "code",
   "execution_count": 1,
   "metadata": {
    "collapsed": false
   },
   "outputs": [
    {
     "name": "stdout",
     "output_type": "stream",
     "text": [
      "Populating the interactive namespace from numpy and matplotlib\n"
     ]
    }
   ],
   "source": [
    "%pylab inline\n",
    "import numpy as np\n",
    "import sklearn as sk"
   ]
  },
  {
   "cell_type": "code",
   "execution_count": 2,
   "metadata": {
    "collapsed": false
   },
   "outputs": [],
   "source": [
    "\"\"\" Import digits dataset. \"\"\"\n",
    "# http://scikit-learn.org/stable/auto_examples/datasets/plot_digits_last_image.html\n",
    "from sklearn.datasets import load_digits\n",
    "digits = load_digits()"
   ]
  },
  {
   "cell_type": "code",
   "execution_count": 3,
   "metadata": {
    "collapsed": false
   },
   "outputs": [
    {
     "name": "stdout",
     "output_type": "stream",
     "text": [
      "<class 'sklearn.datasets.base.Bunch'>\n",
      "['images', 'data', 'target_names', 'DESCR', 'target']\n",
      "<type 'numpy.ndarray'>\n",
      "(64,)\n",
      "<type 'numpy.ndarray'>\n",
      "(8, 8)\n"
     ]
    }
   ],
   "source": [
    "\"\"\"  Explore what type of data structure `digits` is. \"\"\"\n",
    "print type(digits)\n",
    "print digits.keys()\n",
    "print type(digits.data)\n",
    "print digits.data[0].shape\n",
    "print type(digits.images)\n",
    "print digits.images[0].shape\n",
    "# and the docs are here: `digits.DESCR`"
   ]
  },
  {
   "cell_type": "code",
   "execution_count": 5,
   "metadata": {
    "collapsed": false
   },
   "outputs": [
    {
     "data": {
      "text/plain": [
       "<matplotlib.image.AxesImage at 0x5950890>"
      ]
     },
     "execution_count": 5,
     "metadata": {},
     "output_type": "execute_result"
    },
    {
     "data": {
      "image/png": "[encoded data removed]",
      "text/plain": [
       "<matplotlib.figure.Figure at 0x552f810>"
      ]
     },
     "metadata": {},
     "output_type": "display_data"
    }
   ],
   "source": [
    "\"\"\" Plot 3 random digits. \"\"\"\n",
    "N = len(digits.data)\n",
    "samples_to_show = np.random.randint(0,N,3)\n",
    "f, (ax1, ax2, ax3) = plt.subplots(nrows=1, ncols=3)\n",
    "f.set_figwidth(12)\n",
    "ax1.set_title(digits.target[samples_to_show[0]])\n",
    "ax1.matshow(digits.images[samples_to_show[0]], cmap=cm.gray_r)\n",
    "\n",
    "ax2.set_title(digits.target[samples_to_show[1]])\n",
    "ax2.matshow(digits.images[samples_to_show[1]], cmap=cm.gray_r)\n",
    "\n",
    "ax3.set_title(digits.target[samples_to_show[2]])\n",
    "ax3.matshow(digits.images[samples_to_show[2]], cmap=cm.gray_r)"
   ]
  },
  {
   "cell_type": "markdown",
   "metadata": {},
   "source": [
    "### Data munging challenges:"
   ]
  },
  {
   "cell_type": "code",
   "execution_count": 22,
   "metadata": {
    "collapsed": false
   },
   "outputs": [
    {
     "name": "stdout",
     "output_type": "stream",
     "text": [
      "[[  0.   0.   7. ...,   9.   0.   0.]\n",
      " [  0.   0.   0. ...,   4.   0.   0.]\n",
      " [  0.   0.   7. ...,   0.   0.   0.]\n",
      " ..., \n",
      " [  0.   0.   0. ...,   4.   0.   0.]\n",
      " [  0.   0.   1. ...,   6.   0.   0.]\n",
      " [  0.   0.  10. ...,  12.   1.   0.]]\n",
      "[[  0.   0.   5. ...,   0.   0.   0.]\n",
      " [  0.   0.   0. ...,  10.   0.   0.]\n",
      " [  0.   0.   0. ...,  16.   9.   0.]\n",
      " ..., \n",
      " [  0.   0.   4. ...,   9.   0.   0.]\n",
      " [  0.   0.   6. ...,   6.   0.   0.]\n",
      " [  0.   0.   2. ...,  12.   0.   0.]]\n"
     ]
    }
   ],
   "source": [
    "# what is the label of the 8th sample?\n",
    "import random\n",
    "test_portion = 0.25\n",
    "data = np.array(digits.data)\n",
    "N = len(data)\n",
    "test_set_i = np.array(sorted(random.sample(xrange(N), int(test_portion*N))))\n",
    "test_target = np.array(digits.target)[test_set_i]\n",
    "test_set = data[test_set_i]\n",
    "train_set_i = np.array([i for i in range(N) if i not in test_set_i])\n",
    "train_set = data[train_set_i]\n",
    "train_target = np.array(digits.target)[train_set_i]\n",
    "print(test_set)\n",
    "print(train_set)"
   ]
  },
  {
   "cell_type": "code",
   "execution_count": 6,
   "metadata": {
    "collapsed": false
   },
   "outputs": [],
   "source": [
    "# what does that 8th sample look like?"
   ]
  },
  {
   "cell_type": "code",
   "execution_count": 7,
   "metadata": {
    "collapsed": false
   },
   "outputs": [],
   "source": [
    "# how many of each class are there?"
   ]
  },
  {
   "cell_type": "code",
   "execution_count": 8,
   "metadata": {
    "collapsed": false
   },
   "outputs": [],
   "source": [
    "# are the classes given sequentially, or in a random order?"
   ]
  },
  {
   "cell_type": "markdown",
   "metadata": {},
   "source": [
    "## Decision Tree\n",
    "* See [this notebook](http://nbviewer.ipython.org/github/TheGrimmScientist/SlidesFromTalks/blob/master/2014_10_15_DecisionTreeWorkshop/Presentation.ipynb#Decision-Trees-in-SKLearn:) for explanation on `dot` command"
   ]
  },
  {
   "cell_type": "code",
   "execution_count": 4,
   "metadata": {
    "collapsed": false
   },
   "outputs": [],
   "source": [
    "from sklearn import tree"
   ]
  },
  {
   "cell_type": "code",
   "execution_count": 5,
   "metadata": {
    "collapsed": false
   },
   "outputs": [
    {
     "data": {
      "text/plain": [
       "DecisionTreeClassifier(class_weight=None, criterion='entropy', max_depth=2,\n",
       "            max_features=None, max_leaf_nodes=None, min_samples_leaf=1,\n",
       "            min_samples_split=2, min_weight_fraction_leaf=0.0,\n",
       "            random_state=None, splitter='best')"
      ]
     },
     "execution_count": 5,
     "metadata": {},
     "output_type": "execute_result"
    }
   ],
   "source": [
    "\"\"\" Train decision tree on digits data set \"\"\"\n",
    "clf = tree.DecisionTreeClassifier(max_depth=2,criterion=\"entropy\") # construct a decision tree.\n",
    "clf.fit(digits.data,digits.target)  # train it on the dataset"
   ]
  },
  {
   "cell_type": "code",
   "execution_count": 7,
   "metadata": {
    "collapsed": false
   },
   "outputs": [
    {
     "name": "stdout",
     "output_type": "stream",
     "text": [
      "None\n"
     ]
    },
    {
     "ename": "AttributeError",
     "evalue": "'NoneType' object has no attribute 'close'",
     "output_type": "error",
     "traceback": [
      "\u001b[1;31m---------------------------------------------------------------------------\u001b[0m",
      "\u001b[1;31mAttributeError\u001b[0m                            Traceback (most recent call last)",
      "\u001b[1;32m<ipython-input-7-a2dd6ab53325>\u001b[0m in \u001b[0;36m<module>\u001b[1;34m()\u001b[0m\n\u001b[0;32m      2\u001b[0m \u001b[0mdot_file\u001b[0m \u001b[1;33m=\u001b[0m \u001b[0mtree\u001b[0m\u001b[1;33m.\u001b[0m\u001b[0mexport_graphviz\u001b[0m\u001b[1;33m(\u001b[0m\u001b[0mclf\u001b[0m\u001b[1;33m.\u001b[0m\u001b[0mtree_\u001b[0m\u001b[1;33m,\u001b[0m \u001b[0mout_file\u001b[0m\u001b[1;33m=\u001b[0m\u001b[1;34m'tree_d2.dot'\u001b[0m\u001b[1;33m)\u001b[0m  \u001b[1;31m#export the tree to .dot file\u001b[0m\u001b[1;33m\u001b[0m\u001b[0m\n\u001b[0;32m      3\u001b[0m \u001b[1;32mprint\u001b[0m\u001b[1;33m(\u001b[0m\u001b[0mdot_file\u001b[0m\u001b[1;33m)\u001b[0m\u001b[1;33m\u001b[0m\u001b[0m\n\u001b[1;32m----> 4\u001b[1;33m \u001b[0mdot_file\u001b[0m\u001b[1;33m.\u001b[0m\u001b[0mclose\u001b[0m\u001b[1;33m(\u001b[0m\u001b[1;33m)\u001b[0m \u001b[1;31m#close that dot file.\u001b[0m\u001b[1;33m\u001b[0m\u001b[0m\n\u001b[0m\u001b[0;32m      5\u001b[0m \u001b[1;33m\u001b[0m\u001b[0m\n\u001b[0;32m      6\u001b[0m \u001b[0mget_ipython\u001b[0m\u001b[1;33m(\u001b[0m\u001b[1;33m)\u001b[0m\u001b[1;33m.\u001b[0m\u001b[0msystem\u001b[0m\u001b[1;33m(\u001b[0m\u001b[1;34mu' dot -T png tree_d2.dot -o tree_d2.png'\u001b[0m\u001b[1;33m)\u001b[0m\u001b[1;33m\u001b[0m\u001b[0m\n",
      "\u001b[1;31mAttributeError\u001b[0m: 'NoneType' object has no attribute 'close'"
     ]
    }
   ],
   "source": [
    "\"\"\" Print to file, and generate image of tree.  Be sure to have GraphViz installed.\"\"\"\n",
    "dot_file = tree.export_graphviz(clf.tree_, out_file='tree_d2.dot')  #export the tree to .dot file\n",
    "print(dot_file)\n",
    "dot_file.close() #close that dot file.\n",
    "\n",
    "! dot -T png tree_d2.dot -o tree_d2.png"
   ]
  },
  {
   "cell_type": "code",
   "execution_count": 8,
   "metadata": {
    "collapsed": false
   },
   "outputs": [
    {
     "name": "stdout",
     "output_type": "stream",
     "text": [
      "[[3 2]\n",
      " [4 4]\n",
      " [5 2]]\n"
     ]
    }
   ],
   "source": [
    "clf = tree.DecisionTreeClassifier(max_depth=2,criterion=\"entropy\") # construct a decision tree.\n",
    "clf.fit(digits.data,digits.target)  # train it on the dataset\n",
    "\n",
    "features_used = [f for f in clf.tree_.feature if f != -2]\n",
    "\n",
    "def convert_features_used_to_image_locations(features_used, clf):\n",
    "    features_used_as_image = np.zeros(64)\n",
    "    for f in features_used:\n",
    "        features_used_as_image[f] += 1\n",
    "    features_used_as_image = features_used_as_image.reshape((8,8))\n",
    "    locations_of_decision_points = np.argwhere(features_used_as_image > 0)\n",
    "    return [features_used_as_image, locations_of_decision_points]\n",
    "\n",
    "[features_used_as_image, locations_of_decision_points] = convert_features_used_to_image_locations(features_used, clf)\n",
    "print locations_of_decision_points"
   ]
  },
  {
   "cell_type": "code",
   "execution_count": 13,
   "metadata": {
    "collapsed": false
   },
   "outputs": [
    {
     "data": {
      "image/png": "[encoded data removed]",
      "text/plain": [
       "<matplotlib.figure.Figure at 0x7fba2a985990>"
      ]
     },
     "metadata": {},
     "output_type": "display_data"
    }
   ],
   "source": [
    "\"\"\" Plot 3 random digits, with decision boundaries labeled. \"\"\"\n",
    "\n",
    "def plot_decision_points_on_image(ax, features_used_as_image, locations_of_decision_points):\n",
    "    [ax.plot(x,y,'r*', ms=15*features_used_as_image[x,y]) for [x,y] in locations_of_decision_points]\n",
    "\n",
    "N = len(digits.data)\n",
    "samples_to_show = np.random.randint(0,N,3)\n",
    "f, (ax1, ax2, ax3) = plt.subplots(nrows=1, ncols=3)\n",
    "f.set_figwidth(14)\n",
    "ax1.set_title(digits.target[samples_to_show[0]])\n",
    "ax1.matshow(digits.images[samples_to_show[0]], cmap=cm.gray_r)\n",
    "plot_decision_points_on_image(ax1, features_used_as_image, locations_of_decision_points)\n",
    "\n",
    "ax2.set_title(digits.target[samples_to_show[1]])\n",
    "ax2.matshow(digits.images[samples_to_show[1]], cmap=cm.gray_r)\n",
    "plot_decision_points_on_image(ax2, features_used_as_image, locations_of_decision_points)\n",
    "\n",
    "ax3.set_title(digits.target[samples_to_show[2]])\n",
    "ax3.matshow(digits.images[samples_to_show[2]], cmap=cm.gray_r)\n",
    "plot_decision_points_on_image(ax3, features_used_as_image, locations_of_decision_points)"
   ]
  },
  {
   "cell_type": "markdown",
   "metadata": {},
   "source": [
    "## Prediction Challenge 1:"
   ]
  },
  {
   "cell_type": "markdown",
   "metadata": {},
   "source": [
    "# Random Forests\n",
    "\n",
    "Generally speaking, a random forest is an ensmble learner where the weak learners are decision trees.\n",
    "\n",
    "Original paper on decision trees:  [Ho, 1995](http://ieeexplore.ieee.org/xpl/login.jsp?arnumber=598994) ([pdf](ftp://cm.bell-labs.com/who/tkh/papers/odt.pdf))\n",
    "\n",
    "Python's scikit-learn includes most of what we discussed pre-made in its [ensemble](http://scikit-learn.org/stable/modules/classes.html#module-sklearn.ensemble) library.\n",
    "\n",
    "Classes to run [Boosting (via AdaBoost)](http://scikit-learn.org/stable/modules/generated/sklearn.ensemble.AdaBoostClassifier.html#sklearn.ensemble.AdaBoostClassifier) and [Bagging](http://scikit-learn.org/stable/modules/generated/sklearn.ensemble.BaggingClassifier.html#sklearn.ensemble.BaggingClassifier) on arbitrary classifiers are given.\n",
    "However, we will be focusing particularly on a few of the random forest functions given in that sklearn library.\n"
   ]
  },
  {
   "cell_type": "markdown",
   "metadata": {},
   "source": [
    "### Bagging"
   ]
  },
  {
   "cell_type": "code",
   "execution_count": 9,
   "metadata": {
    "collapsed": false
   },
   "outputs": [],
   "source": [
    "\"\"\" Random forests made of bagged decision trees. \"\"\"\n",
    "# http://scikit-learn.org/stable/modules/ensemble.html#forests-of-randomized-trees\n",
    "\n",
    "from sklearn.ensemble import RandomForestClassifier\n",
    "clf = RandomForestClassifier(n_estimators=10, max_depth=2, n_jobs=-1)\n",
    "clf = clf.fit(digits.data, digits.target)\n",
    "score = clf.score(digits.data, digits.target)"
   ]
  },
  {
   "cell_type": "code",
   "execution_count": 10,
   "metadata": {
    "collapsed": false
   },
   "outputs": [
    {
     "name": "stdout",
     "output_type": "stream",
     "text": [
      "[(7, 3), (5, 4), (2, 6), (3, 6), (6, 6), (5, 2), (4, 4), (7, 4), (6, 2), (4, 3), (3, 4), (4, 2), (2, 5), (5, 3), (4, 1), (6, 5), (3, 5)]\n"
     ]
    }
   ],
   "source": [
    "\"\"\" Pull out decision boundaries from all contained trees. \"\"\"\n",
    "features_used_as_image = np.zeros((8,8))\n",
    "locations_of_decision_points = []\n",
    "\n",
    "for est in clf.estimators_:  #for each weak learner\n",
    "    features_used_in_this_tree = [f for f in est.tree_.feature if f != -2]\n",
    "    [features_used_as_image_in_this_tree, locations_of_decision_points_in_this_tree] = \\\n",
    "        convert_features_used_to_image_locations(features_used_in_this_tree, est)\n",
    "    features_used_as_image += features_used_as_image_in_this_tree\n",
    "    locations_of_decision_points += list(locations_of_decision_points_in_this_tree)\n",
    "\n",
    "locations_of_decision_points = list(set([tuple(c) for c in locations_of_decision_points]))\n",
    "print locations_of_decision_points"
   ]
  },
  {
   "cell_type": "code",
   "execution_count": 16,
   "metadata": {
    "collapsed": false
   },
   "outputs": [
    {
     "data": {
      "image/png": "[encoded data removed]",
      "text/plain": [
       "<matplotlib.figure.Figure at 0x7fba28ac81d0>"
      ]
     },
     "metadata": {},
     "output_type": "display_data"
    }
   ],
   "source": [
    "\"\"\" Plot 3 random digits, with decision boundaries labeled using ensemble learner. \"\"\"\n",
    "\n",
    "N = len(digits.data)\n",
    "samples_to_show = np.random.randint(0,N,3)\n",
    "f, (ax1, ax2, ax3) = plt.subplots(nrows=1, ncols=3)\n",
    "f.set_figwidth(14)\n",
    "ax1.set_title(digits.target[samples_to_show[0]])\n",
    "ax1.matshow(digits.images[samples_to_show[0]], cmap=cm.gray_r)\n",
    "plot_decision_points_on_image(ax1, features_used_as_image, locations_of_decision_points)\n",
    "\n",
    "ax2.set_title(digits.target[samples_to_show[1]])\n",
    "ax2.matshow(digits.images[samples_to_show[1]], cmap=cm.gray_r)\n",
    "plot_decision_points_on_image(ax2, features_used_as_image, locations_of_decision_points)\n",
    "\n",
    "ax3.set_title(digits.target[samples_to_show[2]])\n",
    "ax3.matshow(digits.images[samples_to_show[2]], cmap=cm.gray_r)\n",
    "plot_decision_points_on_image(ax3, features_used_as_image, locations_of_decision_points)"
   ]
  },
  {
   "cell_type": "markdown",
   "metadata": {},
   "source": [
    "### Boosting"
   ]
  },
  {
   "cell_type": "code",
   "execution_count": 28,
   "metadata": {
    "collapsed": false
   },
   "outputs": [
    {
     "name": "stdout",
     "output_type": "stream",
     "text": [
      "[1, 0.10000000000000001, 0.6859688195991092, 0.13671399999998357]\n",
      "[1, 0.20000000000000001, 0.7037861915367484, 0.13887900000000286]\n",
      "[1, 0.29999999999999999, 0.7060133630289532, 0.14798600000000306]\n",
      "[1, 0.40000000000000002, 0.7149220489977728, 0.14610600000000318]\n",
      "[1, 0.5, 0.7416481069042317, 0.15183999999999287]\n",
      "[1, 0.59999999999999998, 0.734966592427617, 0.1511910000000114]\n",
      "[1, 0.69999999999999996, 0.6948775055679287, 0.14849399999999946]\n",
      "[1, 0.80000000000000004, 0.7060133630289532, 0.16311500000000478]\n",
      "[1, 0.90000000000000002, 0.7126948775055679, 0.16631399999999985]\n",
      "[2, 0.10000000000000001, 0.8195991091314031, 0.34290599999999927]\n",
      "[2, 0.20000000000000001, 0.7928730512249443, 0.31905499999999165]\n",
      "[2, 0.29999999999999999, 0.821826280623608, 0.3186139999999966]\n",
      "[2, 0.40000000000000002, 0.8307349665924276, 0.316631000000001]\n",
      "[2, 0.5, 0.8173719376391982, 0.3447319999999934]\n",
      "[2, 0.59999999999999998, 0.8195991091314031, 0.3341179999999895]\n",
      "[2, 0.69999999999999996, 0.7661469933184856, 0.3265700000000038]\n",
      "[2, 0.80000000000000004, 0.7817371937639198, 0.31423699999999144]\n",
      "[2, 0.90000000000000002, 0.779510022271715, 0.3151619999999866]\n",
      "[3, 0.10000000000000001, 0.8641425389755011, 0.4955010000000186]\n",
      "[3, 0.20000000000000001, 0.8418708240534521, 0.5187919999999906]\n",
      "[3, 0.29999999999999999, 0.8685968819599109, 0.5025049999999851]\n",
      "[3, 0.40000000000000002, 0.8619153674832962, 0.5007789999999943]\n",
      "[3, 0.5, 0.8574610244988864, 0.5156460000000038]\n",
      "[3, 0.59999999999999998, 0.8708240534521158, 0.5075199999999995]\n",
      "[3, 0.69999999999999996, 0.8151447661469933, 0.49260699999999247]\n",
      "[3, 0.80000000000000004, 0.8240534521158129, 0.45956300000000283]\n",
      "[3, 0.90000000000000002, 0.8285077951002228, 0.4568739999999991]\n",
      "[4, 0.10000000000000001, 0.9042316258351893, 0.6934550000000002]\n",
      "[4, 0.20000000000000001, 0.8685968819599109, 0.7222690000000114]\n",
      "[4, 0.29999999999999999, 0.8864142538975501, 0.6831439999999986]\n",
      "[4, 0.40000000000000002, 0.8841870824053452, 0.6753590000000145]\n",
      "[4, 0.5, 0.8953229398663697, 0.6901469999999961]\n",
      "[4, 0.59999999999999998, 0.8953229398663697, 0.657779000000005]\n",
      "[4, 0.69999999999999996, 0.8530066815144766, 0.6223190000000045]\n",
      "[4, 0.80000000000000004, 0.8507795100222717, 0.549855000000008]\n",
      "[4, 0.90000000000000002, 0.8552338530066815, 0.5082839999999749]\n",
      "[5, 0.10000000000000001, 0.910913140311804, 0.8804349999999772]\n",
      "[5, 0.20000000000000001, 0.8864142538975501, 0.885042999999996]\n",
      "[5, 0.29999999999999999, 0.89086859688196, 0.8398040000000151]\n",
      "[5, 0.40000000000000002, 0.9020044543429844, 0.829810000000009]\n",
      "[5, 0.5, 0.9131403118040089, 0.8137089999999887]\n",
      "[5, 0.59999999999999998, 0.9064587973273942, 0.7344630000000052]\n",
      "[5, 0.69999999999999996, 0.8752783964365256, 0.6768029999999783]\n",
      "[5, 0.80000000000000004, 0.8641425389755011, 0.5583070000000134]\n",
      "[5, 0.90000000000000002, 0.8485523385300668, 0.5156499999999937]\n",
      "[6, 0.10000000000000001, 0.9309576837416481, 1.0616850000000113]\n",
      "[6, 0.20000000000000001, 0.8975501113585747, 1.0997409999999945]\n",
      "[6, 0.29999999999999999, 0.9153674832962138, 1.0090879999999913]\n",
      "[6, 0.40000000000000002, 0.8997772828507795, 0.9656820000000153]\n",
      "[6, 0.5, 0.9309576837416481, 0.889823999999976]\n",
      "[6, 0.59999999999999998, 0.910913140311804, 0.7810059999999908]\n",
      "[6, 0.69999999999999996, 0.8841870824053452, 0.6986929999999916]\n",
      "[6, 0.80000000000000004, 0.8619153674832962, 0.5754129999999975]\n",
      "[6, 0.90000000000000002, 0.8485523385300668, 0.5715080000000228]\n",
      "[7, 0.10000000000000001, 0.9398663697104677, 1.7507759999999735]\n",
      "[7, 0.20000000000000001, 0.9064587973273942, 1.3947310000000073]\n",
      "[7, 0.29999999999999999, 0.9242761692650334, 1.2549379999999815]\n",
      "[7, 0.40000000000000002, 0.9064587973273942, 1.1530970000000025]\n",
      "[7, 0.5, 0.9398663697104677, 1.0228830000000073]\n",
      "[7, 0.59999999999999998, 0.910913140311804, 0.8626900000000148]\n",
      "[7, 0.69999999999999996, 0.8841870824053452, 0.7506429999999966]\n",
      "[7, 0.80000000000000004, 0.8619153674832962, 0.6110879999999952]\n",
      "[7, 0.90000000000000002, 0.8485523385300668, 0.5621799999999837]\n",
      "[8, 0.10000000000000001, 0.9376391982182628, 1.6922289999999975]\n",
      "[8, 0.20000000000000001, 0.9198218262806236, 2.071713999999986]\n",
      "[8, 0.29999999999999999, 0.933184855233853, 1.7533990000000017]\n",
      "[8, 0.40000000000000002, 0.9220489977728286, 1.422395999999992]\n",
      "[8, 0.5, 0.9487750556792873, 1.2495079999999916]\n",
      "[8, 0.59999999999999998, 0.910913140311804, 1.0479719999999872]\n",
      "[8, 0.69999999999999996, 0.8864142538975501, 0.948964999999987]\n",
      "[8, 0.80000000000000004, 0.8596881959910914, 0.7144930000000045]\n",
      "[8, 0.90000000000000002, 0.8485523385300668, 0.5720049999999901]\n",
      "[9, 0.10000000000000001, 0.9443207126948775, 1.7591979999999978]\n",
      "[9, 0.20000000000000001, 0.9420935412026726, 1.699842000000018]\n",
      "[9, 0.29999999999999999, 0.9420935412026726, 1.4740999999999929]\n",
      "[9, 0.40000000000000002, 0.933184855233853, 1.3029980000000023]\n",
      "[9, 0.5, 0.9510022271714922, 1.1773509999999874]\n",
      "[9, 0.59999999999999998, 0.9064587973273942, 0.8867150000000095]\n",
      "[9, 0.69999999999999996, 0.8841870824053452, 0.8244080000000054]\n",
      "[9, 0.80000000000000004, 0.8574610244988864, 0.6328060000000164]\n",
      "[9, 0.90000000000000002, 0.8485523385300668, 0.5797699999999963]\n",
      "[10, 0.10000000000000001, 0.9487750556792873, 2.020193000000006]\n",
      "[10, 0.20000000000000001, 0.9510022271714922, 1.976021000000003]\n",
      "[10, 0.29999999999999999, 0.9465478841870824, 1.608068000000003]\n",
      "[10, 0.40000000000000002, 0.9398663697104677, 1.3258639999999957]\n",
      "[10, 0.5, 0.9510022271714922, 1.092849000000001]\n",
      "[10, 0.59999999999999998, 0.9064587973273942, 0.9033200000000079]\n",
      "[10, 0.69999999999999996, 0.8841870824053452, 0.8204340000000059]\n",
      "[10, 0.80000000000000004, 0.8552338530066815, 0.6848559999999964]\n",
      "[10, 0.90000000000000002, 0.8485523385300668, 0.6531640000000039]\n",
      "[11, 0.10000000000000001, 0.9510022271714922, 2.242675999999989]\n",
      "[11, 0.20000000000000001, 0.955456570155902, 2.296108000000004]\n",
      "[11, 0.29999999999999999, 0.955456570155902, 1.6918279999999868]\n",
      "[11, 0.40000000000000002, 0.9398663697104677, 1.346997999999985]\n",
      "[11, 0.5, 0.9510022271714922, 1.0855289999999798]\n",
      "[11, 0.59999999999999998, 0.9064587973273942, 0.9628189999999961]\n",
      "[11, 0.69999999999999996, 0.8841870824053452, 0.871672999999987]\n",
      "[11, 0.80000000000000004, 0.8596881959910914, 0.7108450000000062]\n",
      "[11, 0.90000000000000002, 0.8485523385300668, 0.6246580000000108]\n",
      "[12, 0.10000000000000001, 0.955456570155902, 2.4519009999999923]\n",
      "[12, 0.20000000000000001, 0.9532293986636972, 2.1950760000000002]\n",
      "[12, 0.29999999999999999, 0.9487750556792873, 1.7177859999999896]\n",
      "[12, 0.40000000000000002, 0.9354120267260579, 1.7241420000000005]\n",
      "[12, 0.5, 0.9510022271714922, 1.1275769999999739]\n",
      "[12, 0.59999999999999998, 0.9064587973273942, 0.9515870000000177]\n",
      "[12, 0.69999999999999996, 0.8841870824053452, 0.8394989999999893]\n",
      "[12, 0.80000000000000004, 0.8641425389755011, 0.7097880000000032]\n",
      "[12, 0.90000000000000002, 0.8485523385300668, 0.6818700000000035]\n",
      "[13, 0.10000000000000001, 0.9576837416481069, 2.7787139999999795]\n",
      "[13, 0.20000000000000001, 0.955456570155902, 2.5656470000000127]\n",
      "[13, 0.29999999999999999, 0.9487750556792873, 2.1279030000000034]\n",
      "[13, 0.40000000000000002, 0.9376391982182628, 1.4438789999999813]\n",
      "[13, 0.5, 0.9510022271714922, 1.1252150000000256]\n",
      "[13, 0.59999999999999998, 0.9064587973273942, 0.9111590000000547]\n",
      "[13, 0.69999999999999996, 0.8841870824053452, 0.8121059999999716]\n",
      "[13, 0.80000000000000004, 0.8663697104677061, 0.706862000000001]\n",
      "[13, 0.90000000000000002, 0.8485523385300668, 0.6412380000000439]\n",
      "[14, 0.10000000000000001, 0.9576837416481069, 2.718031999999994]\n",
      "[14, 0.20000000000000001, 0.9599109131403119, 2.4537149999999883]\n",
      "[14, 0.29999999999999999, 0.9510022271714922, 1.9377309999999852]\n",
      "[14, 0.40000000000000002, 0.9376391982182628, 1.3964730000000145]\n",
      "[14, 0.5, 0.9510022271714922, 1.1616600000000403]\n",
      "[14, 0.59999999999999998, 0.9064587973273942, 0.9568689999999833]\n",
      "[14, 0.69999999999999996, 0.8841870824053452, 0.8339750000000095]\n",
      "[14, 0.80000000000000004, 0.8663697104677061, 0.6912019999999757]\n",
      "[14, 0.90000000000000002, 0.8485523385300668, 0.6327650000000062]\n",
      "[[1, 0.10000000000000001, 0.6859688195991092, 0.13671399999998357], [1, 0.20000000000000001, 0.7037861915367484, 0.13887900000000286], [1, 0.29999999999999999, 0.7060133630289532, 0.14798600000000306], [1, 0.40000000000000002, 0.7149220489977728, 0.14610600000000318], [1, 0.5, 0.7416481069042317, 0.15183999999999287], [1, 0.59999999999999998, 0.734966592427617, 0.1511910000000114], [1, 0.69999999999999996, 0.6948775055679287, 0.14849399999999946], [1, 0.80000000000000004, 0.7060133630289532, 0.16311500000000478], [1, 0.90000000000000002, 0.7126948775055679, 0.16631399999999985], [2, 0.10000000000000001, 0.8195991091314031, 0.34290599999999927], [2, 0.20000000000000001, 0.7928730512249443, 0.31905499999999165], [2, 0.29999999999999999, 0.821826280623608, 0.3186139999999966], [2, 0.40000000000000002, 0.8307349665924276, 0.316631000000001], [2, 0.5, 0.8173719376391982, 0.3447319999999934], [2, 0.59999999999999998, 0.8195991091314031, 0.3341179999999895], [2, 0.69999999999999996, 0.7661469933184856, 0.3265700000000038], [2, 0.80000000000000004, 0.7817371937639198, 0.31423699999999144], [2, 0.90000000000000002, 0.779510022271715, 0.3151619999999866], [3, 0.10000000000000001, 0.8641425389755011, 0.4955010000000186], [3, 0.20000000000000001, 0.8418708240534521, 0.5187919999999906], [3, 0.29999999999999999, 0.8685968819599109, 0.5025049999999851], [3, 0.40000000000000002, 0.8619153674832962, 0.5007789999999943], [3, 0.5, 0.8574610244988864, 0.5156460000000038], [3, 0.59999999999999998, 0.8708240534521158, 0.5075199999999995], [3, 0.69999999999999996, 0.8151447661469933, 0.49260699999999247], [3, 0.80000000000000004, 0.8240534521158129, 0.45956300000000283], [3, 0.90000000000000002, 0.8285077951002228, 0.4568739999999991], [4, 0.10000000000000001, 0.9042316258351893, 0.6934550000000002], [4, 0.20000000000000001, 0.8685968819599109, 0.7222690000000114], [4, 0.29999999999999999, 0.8864142538975501, 0.6831439999999986], [4, 0.40000000000000002, 0.8841870824053452, 0.6753590000000145], [4, 0.5, 0.8953229398663697, 0.6901469999999961], [4, 0.59999999999999998, 0.8953229398663697, 0.657779000000005], [4, 0.69999999999999996, 0.8530066815144766, 0.6223190000000045], [4, 0.80000000000000004, 0.8507795100222717, 0.549855000000008], [4, 0.90000000000000002, 0.8552338530066815, 0.5082839999999749], [5, 0.10000000000000001, 0.910913140311804, 0.8804349999999772], [5, 0.20000000000000001, 0.8864142538975501, 0.885042999999996], [5, 0.29999999999999999, 0.89086859688196, 0.8398040000000151], [5, 0.40000000000000002, 0.9020044543429844, 0.829810000000009], [5, 0.5, 0.9131403118040089, 0.8137089999999887], [5, 0.59999999999999998, 0.9064587973273942, 0.7344630000000052], [5, 0.69999999999999996, 0.8752783964365256, 0.6768029999999783], [5, 0.80000000000000004, 0.8641425389755011, 0.5583070000000134], [5, 0.90000000000000002, 0.8485523385300668, 0.5156499999999937], [6, 0.10000000000000001, 0.9309576837416481, 1.0616850000000113], [6, 0.20000000000000001, 0.8975501113585747, 1.0997409999999945], [6, 0.29999999999999999, 0.9153674832962138, 1.0090879999999913], [6, 0.40000000000000002, 0.8997772828507795, 0.9656820000000153], [6, 0.5, 0.9309576837416481, 0.889823999999976], [6, 0.59999999999999998, 0.910913140311804, 0.7810059999999908], [6, 0.69999999999999996, 0.8841870824053452, 0.6986929999999916], [6, 0.80000000000000004, 0.8619153674832962, 0.5754129999999975], [6, 0.90000000000000002, 0.8485523385300668, 0.5715080000000228], [7, 0.10000000000000001, 0.9398663697104677, 1.7507759999999735], [7, 0.20000000000000001, 0.9064587973273942, 1.3947310000000073], [7, 0.29999999999999999, 0.9242761692650334, 1.2549379999999815], [7, 0.40000000000000002, 0.9064587973273942, 1.1530970000000025], [7, 0.5, 0.9398663697104677, 1.0228830000000073], [7, 0.59999999999999998, 0.910913140311804, 0.8626900000000148], [7, 0.69999999999999996, 0.8841870824053452, 0.7506429999999966], [7, 0.80000000000000004, 0.8619153674832962, 0.6110879999999952], [7, 0.90000000000000002, 0.8485523385300668, 0.5621799999999837], [8, 0.10000000000000001, 0.9376391982182628, 1.6922289999999975], [8, 0.20000000000000001, 0.9198218262806236, 2.071713999999986], [8, 0.29999999999999999, 0.933184855233853, 1.7533990000000017], [8, 0.40000000000000002, 0.9220489977728286, 1.422395999999992], [8, 0.5, 0.9487750556792873, 1.2495079999999916], [8, 0.59999999999999998, 0.910913140311804, 1.0479719999999872], [8, 0.69999999999999996, 0.8864142538975501, 0.948964999999987], [8, 0.80000000000000004, 0.8596881959910914, 0.7144930000000045], [8, 0.90000000000000002, 0.8485523385300668, 0.5720049999999901], [9, 0.10000000000000001, 0.9443207126948775, 1.7591979999999978], [9, 0.20000000000000001, 0.9420935412026726, 1.699842000000018], [9, 0.29999999999999999, 0.9420935412026726, 1.4740999999999929], [9, 0.40000000000000002, 0.933184855233853, 1.3029980000000023], [9, 0.5, 0.9510022271714922, 1.1773509999999874], [9, 0.59999999999999998, 0.9064587973273942, 0.8867150000000095], [9, 0.69999999999999996, 0.8841870824053452, 0.8244080000000054], [9, 0.80000000000000004, 0.8574610244988864, 0.6328060000000164], [9, 0.90000000000000002, 0.8485523385300668, 0.5797699999999963], [10, 0.10000000000000001, 0.9487750556792873, 2.020193000000006], [10, 0.20000000000000001, 0.9510022271714922, 1.976021000000003], [10, 0.29999999999999999, 0.9465478841870824, 1.608068000000003], [10, 0.40000000000000002, 0.9398663697104677, 1.3258639999999957], [10, 0.5, 0.9510022271714922, 1.092849000000001], [10, 0.59999999999999998, 0.9064587973273942, 0.9033200000000079], [10, 0.69999999999999996, 0.8841870824053452, 0.8204340000000059], [10, 0.80000000000000004, 0.8552338530066815, 0.6848559999999964], [10, 0.90000000000000002, 0.8485523385300668, 0.6531640000000039], [11, 0.10000000000000001, 0.9510022271714922, 2.242675999999989], [11, 0.20000000000000001, 0.955456570155902, 2.296108000000004], [11, 0.29999999999999999, 0.955456570155902, 1.6918279999999868], [11, 0.40000000000000002, 0.9398663697104677, 1.346997999999985], [11, 0.5, 0.9510022271714922, 1.0855289999999798], [11, 0.59999999999999998, 0.9064587973273942, 0.9628189999999961], [11, 0.69999999999999996, 0.8841870824053452, 0.871672999999987], [11, 0.80000000000000004, 0.8596881959910914, 0.7108450000000062], [11, 0.90000000000000002, 0.8485523385300668, 0.6246580000000108], [12, 0.10000000000000001, 0.955456570155902, 2.4519009999999923], [12, 0.20000000000000001, 0.9532293986636972, 2.1950760000000002], [12, 0.29999999999999999, 0.9487750556792873, 1.7177859999999896], [12, 0.40000000000000002, 0.9354120267260579, 1.7241420000000005], [12, 0.5, 0.9510022271714922, 1.1275769999999739], [12, 0.59999999999999998, 0.9064587973273942, 0.9515870000000177], [12, 0.69999999999999996, 0.8841870824053452, 0.8394989999999893], [12, 0.80000000000000004, 0.8641425389755011, 0.7097880000000032], [12, 0.90000000000000002, 0.8485523385300668, 0.6818700000000035], [13, 0.10000000000000001, 0.9576837416481069, 2.7787139999999795], [13, 0.20000000000000001, 0.955456570155902, 2.5656470000000127], [13, 0.29999999999999999, 0.9487750556792873, 2.1279030000000034], [13, 0.40000000000000002, 0.9376391982182628, 1.4438789999999813], [13, 0.5, 0.9510022271714922, 1.1252150000000256], [13, 0.59999999999999998, 0.9064587973273942, 0.9111590000000547], [13, 0.69999999999999996, 0.8841870824053452, 0.8121059999999716], [13, 0.80000000000000004, 0.8663697104677061, 0.706862000000001], [13, 0.90000000000000002, 0.8485523385300668, 0.6412380000000439], [14, 0.10000000000000001, 0.9576837416481069, 2.718031999999994], [14, 0.20000000000000001, 0.9599109131403119, 2.4537149999999883], [14, 0.29999999999999999, 0.9510022271714922, 1.9377309999999852], [14, 0.40000000000000002, 0.9376391982182628, 1.3964730000000145], [14, 0.5, 0.9510022271714922, 1.1616600000000403], [14, 0.59999999999999998, 0.9064587973273942, 0.9568689999999833], [14, 0.69999999999999996, 0.8841870824053452, 0.8339750000000095], [14, 0.80000000000000004, 0.8663697104677061, 0.6912019999999757], [14, 0.90000000000000002, 0.8485523385300668, 0.6327650000000062]]\n"
     ]
    },
    {
     "data": {
      "text/plain": [
       "<matplotlib.text.Text at 0x4594690>"
      ]
     },
     "execution_count": 28,
     "metadata": {},
     "output_type": "execute_result"
    },
    {
     "data": {
      "image/png": "[encoded data removed]",
      "text/plain": [
       "<matplotlib.figure.Figure at 0x4f37510>"
      ]
     },
     "metadata": {},
     "output_type": "display_data"
    }
   ],
   "source": [
    "\"\"\" Boosting \"\"\"\n",
    "# http://scikit-learn.org/stable/modules/ensemble.html#gradient-tree-boosting\n",
    "from sklearn.ensemble import GradientBoostingClassifier\n",
    "\n",
    "import time\n",
    "\n",
    "scores = []\n",
    "list_of_n_estimators = range(1,15)\n",
    "learning_rates = np.array(range(1,10)) / 10.\n",
    "\n",
    "from itertools import product\n",
    "\n",
    "for n, lr in product(list_of_n_estimators, learning_rates): # for n_estimators in [1:15]\n",
    "    \n",
    "    for i in range(1):  # repeat this 5 times\n",
    "        temp_scores = []\n",
    "        temp_times = []\n",
    "        t0 = time.clock()\n",
    "        clf = GradientBoostingClassifier(n_estimators=n, learning_rate=lr,\n",
    "            max_depth=10, random_state=0, max_features=3).fit(train_set, train_target)\n",
    "        score = clf.score(test_set, test_target)\n",
    "        t1 = time.clock()\n",
    "        temp_scores.append(score)\n",
    "        temp_times.append(t1-t0)\n",
    "    avg_score = float(sum(temp_scores))/len(temp_scores)\n",
    "    avg_time = float(sum(temp_times))/len(temp_times)\n",
    "    scores.append([n, lr, avg_score, avg_time])\n",
    "    print scores[-1]\n",
    "\n",
    "print scores\n",
    "\n",
    "plot(scores)\n",
    "legend('scores', 'times')\n",
    "xlabel(\"n\")\n",
    "ylabel(\"score\")\n",
    "title(\"AdaBoost variant of Random Forest\")\n",
    "\n",
    "#TODO: keep this.  it's getting stuck on a class, right?\n",
    "#TODO: show it's max_depth=1, so it's always picking the same one var?\n",
    "\n",
    "# Regarding learning rate:  http://scikit-learn.org/stable/modules/ensemble.html#gradient-boosting-shrinkage\n"
   ]
  },
  {
   "cell_type": "code",
   "execution_count": 34,
   "metadata": {
    "collapsed": false
   },
   "outputs": [
    {
     "ename": "TypeError",
     "evalue": "float() argument must be a string or a number",
     "output_type": "error",
     "traceback": [
      "\u001b[1;31m---------------------------------------------------------------------------\u001b[0m",
      "\u001b[1;31mTypeError\u001b[0m                                 Traceback (most recent call last)",
      "\u001b[1;32m<ipython-input-34-2c4b4a9a7b5d>\u001b[0m in \u001b[0;36m<module>\u001b[1;34m()\u001b[0m\n\u001b[0;32m      7\u001b[0m \u001b[0my\u001b[0m \u001b[1;33m=\u001b[0m \u001b[0mnp\u001b[0m\u001b[1;33m.\u001b[0m\u001b[0marray\u001b[0m\u001b[1;33m(\u001b[0m\u001b[0ms\u001b[0m\u001b[1;33m[\u001b[0m\u001b[1;36m1\u001b[0m\u001b[1;33m]\u001b[0m \u001b[1;32mfor\u001b[0m \u001b[0ms\u001b[0m \u001b[1;32min\u001b[0m \u001b[0mscores\u001b[0m\u001b[1;33m)\u001b[0m\u001b[1;33m\u001b[0m\u001b[0m\n\u001b[0;32m      8\u001b[0m \u001b[0mz\u001b[0m \u001b[1;33m=\u001b[0m \u001b[0mnp\u001b[0m\u001b[1;33m.\u001b[0m\u001b[0marray\u001b[0m\u001b[1;33m(\u001b[0m\u001b[0ms\u001b[0m\u001b[1;33m[\u001b[0m\u001b[1;36m2\u001b[0m\u001b[1;33m]\u001b[0m \u001b[1;32mfor\u001b[0m \u001b[0ms\u001b[0m \u001b[1;32min\u001b[0m \u001b[0mscores\u001b[0m\u001b[1;33m)\u001b[0m\u001b[1;33m\u001b[0m\u001b[0m\n\u001b[1;32m----> 9\u001b[1;33m \u001b[0max3d\u001b[0m\u001b[1;33m.\u001b[0m\u001b[0mscatter\u001b[0m\u001b[1;33m(\u001b[0m\u001b[0mx\u001b[0m\u001b[1;33m,\u001b[0m \u001b[0my\u001b[0m\u001b[1;33m,\u001b[0m \u001b[0mz\u001b[0m\u001b[1;33m,\u001b[0m \u001b[0mzdir\u001b[0m\u001b[1;33m=\u001b[0m\u001b[1;34mu'z'\u001b[0m\u001b[1;33m,\u001b[0m \u001b[0ms\u001b[0m\u001b[1;33m=\u001b[0m\u001b[1;36m20\u001b[0m\u001b[1;33m,\u001b[0m \u001b[0mc\u001b[0m\u001b[1;33m=\u001b[0m\u001b[1;34mu'b'\u001b[0m\u001b[1;33m,\u001b[0m \u001b[0mdepthshade\u001b[0m\u001b[1;33m=\u001b[0m\u001b[0mTrue\u001b[0m\u001b[1;33m)\u001b[0m\u001b[1;33m\u001b[0m\u001b[0m\n\u001b[0m",
      "\u001b[1;32m/home/hobs/.virtualenvs/totalgood/lib/python2.7/site-packages/mpl_toolkits/mplot3d/axes3d.pyc\u001b[0m in \u001b[0;36mscatter\u001b[1;34m(self, xs, ys, zs, zdir, s, c, depthshade, *args, **kwargs)\u001b[0m\n\u001b[0;32m   2241\u001b[0m         \u001b[0mxs\u001b[0m\u001b[1;33m,\u001b[0m \u001b[0mys\u001b[0m\u001b[1;33m,\u001b[0m \u001b[0mzs\u001b[0m\u001b[1;33m,\u001b[0m \u001b[0ms\u001b[0m\u001b[1;33m,\u001b[0m \u001b[0mc\u001b[0m \u001b[1;33m=\u001b[0m \u001b[0mcbook\u001b[0m\u001b[1;33m.\u001b[0m\u001b[0mdelete_masked_points\u001b[0m\u001b[1;33m(\u001b[0m\u001b[0mxs\u001b[0m\u001b[1;33m,\u001b[0m \u001b[0mys\u001b[0m\u001b[1;33m,\u001b[0m \u001b[0mzs\u001b[0m\u001b[1;33m,\u001b[0m \u001b[0ms\u001b[0m\u001b[1;33m,\u001b[0m \u001b[0mc\u001b[0m\u001b[1;33m)\u001b[0m\u001b[1;33m\u001b[0m\u001b[0m\n\u001b[0;32m   2242\u001b[0m \u001b[1;33m\u001b[0m\u001b[0m\n\u001b[1;32m-> 2243\u001b[1;33m         \u001b[0mpatches\u001b[0m \u001b[1;33m=\u001b[0m \u001b[0mAxes\u001b[0m\u001b[1;33m.\u001b[0m\u001b[0mscatter\u001b[0m\u001b[1;33m(\u001b[0m\u001b[0mself\u001b[0m\u001b[1;33m,\u001b[0m \u001b[0mxs\u001b[0m\u001b[1;33m,\u001b[0m \u001b[0mys\u001b[0m\u001b[1;33m,\u001b[0m \u001b[0ms\u001b[0m\u001b[1;33m=\u001b[0m\u001b[0ms\u001b[0m\u001b[1;33m,\u001b[0m \u001b[0mc\u001b[0m\u001b[1;33m=\u001b[0m\u001b[0mc\u001b[0m\u001b[1;33m,\u001b[0m \u001b[1;33m*\u001b[0m\u001b[0margs\u001b[0m\u001b[1;33m,\u001b[0m \u001b[1;33m**\u001b[0m\u001b[0mkwargs\u001b[0m\u001b[1;33m)\u001b[0m\u001b[1;33m\u001b[0m\u001b[0m\n\u001b[0m\u001b[0;32m   2244\u001b[0m         \u001b[1;32mif\u001b[0m \u001b[1;32mnot\u001b[0m \u001b[0mcbook\u001b[0m\u001b[1;33m.\u001b[0m\u001b[0miterable\u001b[0m\u001b[1;33m(\u001b[0m\u001b[0mzs\u001b[0m\u001b[1;33m)\u001b[0m\u001b[1;33m:\u001b[0m\u001b[1;33m\u001b[0m\u001b[0m\n\u001b[0;32m   2245\u001b[0m             \u001b[0mis_2d\u001b[0m \u001b[1;33m=\u001b[0m \u001b[0mTrue\u001b[0m\u001b[1;33m\u001b[0m\u001b[0m\n",
      "\u001b[1;32m/home/hobs/.virtualenvs/totalgood/lib/python2.7/site-packages/matplotlib/axes/_axes.pyc\u001b[0m in \u001b[0;36mscatter\u001b[1;34m(self, x, y, s, c, marker, cmap, norm, vmin, vmax, alpha, linewidths, verts, **kwargs)\u001b[0m\n\u001b[0;32m   3672\u001b[0m             \u001b[0mself\u001b[0m\u001b[1;33m.\u001b[0m\u001b[0mset_ymargin\u001b[0m\u001b[1;33m(\u001b[0m\u001b[1;36m0.05\u001b[0m\u001b[1;33m)\u001b[0m\u001b[1;33m\u001b[0m\u001b[0m\n\u001b[0;32m   3673\u001b[0m \u001b[1;33m\u001b[0m\u001b[0m\n\u001b[1;32m-> 3674\u001b[1;33m         \u001b[0mself\u001b[0m\u001b[1;33m.\u001b[0m\u001b[0madd_collection\u001b[0m\u001b[1;33m(\u001b[0m\u001b[0mcollection\u001b[0m\u001b[1;33m)\u001b[0m\u001b[1;33m\u001b[0m\u001b[0m\n\u001b[0m\u001b[0;32m   3675\u001b[0m         \u001b[0mself\u001b[0m\u001b[1;33m.\u001b[0m\u001b[0mautoscale_view\u001b[0m\u001b[1;33m(\u001b[0m\u001b[1;33m)\u001b[0m\u001b[1;33m\u001b[0m\u001b[0m\n\u001b[0;32m   3676\u001b[0m \u001b[1;33m\u001b[0m\u001b[0m\n",
      "\u001b[1;32m/home/hobs/.virtualenvs/totalgood/lib/python2.7/site-packages/matplotlib/axes/_base.pyc\u001b[0m in \u001b[0;36madd_collection\u001b[1;34m(self, collection, autolim)\u001b[0m\n\u001b[0;32m   1475\u001b[0m \u001b[1;33m\u001b[0m\u001b[0m\n\u001b[0;32m   1476\u001b[0m         \u001b[1;32mif\u001b[0m \u001b[0mautolim\u001b[0m\u001b[1;33m:\u001b[0m\u001b[1;33m\u001b[0m\u001b[0m\n\u001b[1;32m-> 1477\u001b[1;33m             \u001b[0mself\u001b[0m\u001b[1;33m.\u001b[0m\u001b[0mupdate_datalim\u001b[0m\u001b[1;33m(\u001b[0m\u001b[0mcollection\u001b[0m\u001b[1;33m.\u001b[0m\u001b[0mget_datalim\u001b[0m\u001b[1;33m(\u001b[0m\u001b[0mself\u001b[0m\u001b[1;33m.\u001b[0m\u001b[0mtransData\u001b[0m\u001b[1;33m)\u001b[0m\u001b[1;33m)\u001b[0m\u001b[1;33m\u001b[0m\u001b[0m\n\u001b[0m\u001b[0;32m   1478\u001b[0m \u001b[1;33m\u001b[0m\u001b[0m\n\u001b[0;32m   1479\u001b[0m         \u001b[0mcollection\u001b[0m\u001b[1;33m.\u001b[0m\u001b[0m_remove_method\u001b[0m \u001b[1;33m=\u001b[0m \u001b[1;32mlambda\u001b[0m \u001b[0mh\u001b[0m\u001b[1;33m:\u001b[0m \u001b[0mself\u001b[0m\u001b[1;33m.\u001b[0m\u001b[0mcollections\u001b[0m\u001b[1;33m.\u001b[0m\u001b[0mremove\u001b[0m\u001b[1;33m(\u001b[0m\u001b[0mh\u001b[0m\u001b[1;33m)\u001b[0m\u001b[1;33m\u001b[0m\u001b[0m\n",
      "\u001b[1;32m/home/hobs/.virtualenvs/totalgood/lib/python2.7/site-packages/matplotlib/collections.pyc\u001b[0m in \u001b[0;36mget_datalim\u001b[1;34m(self, transData)\u001b[0m\n\u001b[0;32m    190\u001b[0m             \u001b[0mtransOffset\u001b[0m \u001b[1;33m=\u001b[0m \u001b[0mtransOffset\u001b[0m\u001b[1;33m.\u001b[0m\u001b[0mget_affine\u001b[0m\u001b[1;33m(\u001b[0m\u001b[1;33m)\u001b[0m\u001b[1;33m\u001b[0m\u001b[0m\n\u001b[0;32m    191\u001b[0m \u001b[1;33m\u001b[0m\u001b[0m\n\u001b[1;32m--> 192\u001b[1;33m         \u001b[0moffsets\u001b[0m \u001b[1;33m=\u001b[0m \u001b[0mnp\u001b[0m\u001b[1;33m.\u001b[0m\u001b[0masanyarray\u001b[0m\u001b[1;33m(\u001b[0m\u001b[0moffsets\u001b[0m\u001b[1;33m,\u001b[0m \u001b[0mnp\u001b[0m\u001b[1;33m.\u001b[0m\u001b[0mfloat_\u001b[0m\u001b[1;33m)\u001b[0m\u001b[1;33m\u001b[0m\u001b[0m\n\u001b[0m\u001b[0;32m    193\u001b[0m         \u001b[1;32mif\u001b[0m \u001b[0mnp\u001b[0m\u001b[1;33m.\u001b[0m\u001b[0mma\u001b[0m\u001b[1;33m.\u001b[0m\u001b[0misMaskedArray\u001b[0m\u001b[1;33m(\u001b[0m\u001b[0moffsets\u001b[0m\u001b[1;33m)\u001b[0m\u001b[1;33m:\u001b[0m\u001b[1;33m\u001b[0m\u001b[0m\n\u001b[0;32m    194\u001b[0m             \u001b[0moffsets\u001b[0m \u001b[1;33m=\u001b[0m \u001b[0moffsets\u001b[0m\u001b[1;33m.\u001b[0m\u001b[0mfilled\u001b[0m\u001b[1;33m(\u001b[0m\u001b[0mnp\u001b[0m\u001b[1;33m.\u001b[0m\u001b[0mnan\u001b[0m\u001b[1;33m)\u001b[0m\u001b[1;33m\u001b[0m\u001b[0m\n",
      "\u001b[1;32m/home/hobs/.virtualenvs/totalgood/lib/python2.7/site-packages/numpy/core/numeric.pyc\u001b[0m in \u001b[0;36masanyarray\u001b[1;34m(a, dtype, order)\u001b[0m\n\u001b[0;32m    512\u001b[0m \u001b[1;33m\u001b[0m\u001b[0m\n\u001b[0;32m    513\u001b[0m     \"\"\"\n\u001b[1;32m--> 514\u001b[1;33m     \u001b[1;32mreturn\u001b[0m \u001b[0marray\u001b[0m\u001b[1;33m(\u001b[0m\u001b[0ma\u001b[0m\u001b[1;33m,\u001b[0m \u001b[0mdtype\u001b[0m\u001b[1;33m,\u001b[0m \u001b[0mcopy\u001b[0m\u001b[1;33m=\u001b[0m\u001b[0mFalse\u001b[0m\u001b[1;33m,\u001b[0m \u001b[0morder\u001b[0m\u001b[1;33m=\u001b[0m\u001b[0morder\u001b[0m\u001b[1;33m,\u001b[0m \u001b[0msubok\u001b[0m\u001b[1;33m=\u001b[0m\u001b[0mTrue\u001b[0m\u001b[1;33m)\u001b[0m\u001b[1;33m\u001b[0m\u001b[0m\n\u001b[0m\u001b[0;32m    515\u001b[0m \u001b[1;33m\u001b[0m\u001b[0m\n\u001b[0;32m    516\u001b[0m \u001b[1;32mdef\u001b[0m \u001b[0mascontiguousarray\u001b[0m\u001b[1;33m(\u001b[0m\u001b[0ma\u001b[0m\u001b[1;33m,\u001b[0m \u001b[0mdtype\u001b[0m\u001b[1;33m=\u001b[0m\u001b[0mNone\u001b[0m\u001b[1;33m)\u001b[0m\u001b[1;33m:\u001b[0m\u001b[1;33m\u001b[0m\u001b[0m\n",
      "\u001b[1;31mTypeError\u001b[0m: float() argument must be a string or a number"
     ]
    },
    {
     "ename": "AttributeError",
     "evalue": "'PathCollection' object has no attribute 'do_3d_projection'",
     "output_type": "error",
     "traceback": [
      "\u001b[1;31m---------------------------------------------------------------------------\u001b[0m",
      "\u001b[1;31mAttributeError\u001b[0m                            Traceback (most recent call last)",
      "\u001b[1;32m/home/hobs/.virtualenvs/totalgood/lib/python2.7/site-packages/IPython/core/formatters.pyc\u001b[0m in \u001b[0;36m__call__\u001b[1;34m(self, obj)\u001b[0m\n\u001b[0;32m    328\u001b[0m                 \u001b[1;32mpass\u001b[0m\u001b[1;33m\u001b[0m\u001b[0m\n\u001b[0;32m    329\u001b[0m             \u001b[1;32melse\u001b[0m\u001b[1;33m:\u001b[0m\u001b[1;33m\u001b[0m\u001b[0m\n\u001b[1;32m--> 330\u001b[1;33m                 \u001b[1;32mreturn\u001b[0m \u001b[0mprinter\u001b[0m\u001b[1;33m(\u001b[0m\u001b[0mobj\u001b[0m\u001b[1;33m)\u001b[0m\u001b[1;33m\u001b[0m\u001b[0m\n\u001b[0m\u001b[0;32m    331\u001b[0m             \u001b[1;31m# Finally look for special method names\u001b[0m\u001b[1;33m\u001b[0m\u001b[1;33m\u001b[0m\u001b[0m\n\u001b[0;32m    332\u001b[0m             \u001b[0mmethod\u001b[0m \u001b[1;33m=\u001b[0m \u001b[0m_safe_get_formatter_method\u001b[0m\u001b[1;33m(\u001b[0m\u001b[0mobj\u001b[0m\u001b[1;33m,\u001b[0m \u001b[0mself\u001b[0m\u001b[1;33m.\u001b[0m\u001b[0mprint_method\u001b[0m\u001b[1;33m)\u001b[0m\u001b[1;33m\u001b[0m\u001b[0m\n",
      "\u001b[1;32m/home/hobs/.virtualenvs/totalgood/lib/python2.7/site-packages/IPython/core/pylabtools.pyc\u001b[0m in \u001b[0;36m<lambda>\u001b[1;34m(fig)\u001b[0m\n\u001b[0;32m    205\u001b[0m \u001b[1;33m\u001b[0m\u001b[0m\n\u001b[0;32m    206\u001b[0m     \u001b[1;32mif\u001b[0m \u001b[1;34m'png'\u001b[0m \u001b[1;32min\u001b[0m \u001b[0mformats\u001b[0m\u001b[1;33m:\u001b[0m\u001b[1;33m\u001b[0m\u001b[0m\n\u001b[1;32m--> 207\u001b[1;33m         \u001b[0mpng_formatter\u001b[0m\u001b[1;33m.\u001b[0m\u001b[0mfor_type\u001b[0m\u001b[1;33m(\u001b[0m\u001b[0mFigure\u001b[0m\u001b[1;33m,\u001b[0m \u001b[1;32mlambda\u001b[0m \u001b[0mfig\u001b[0m\u001b[1;33m:\u001b[0m \u001b[0mprint_figure\u001b[0m\u001b[1;33m(\u001b[0m\u001b[0mfig\u001b[0m\u001b[1;33m,\u001b[0m \u001b[1;34m'png'\u001b[0m\u001b[1;33m,\u001b[0m \u001b[1;33m**\u001b[0m\u001b[0mkwargs\u001b[0m\u001b[1;33m)\u001b[0m\u001b[1;33m)\u001b[0m\u001b[1;33m\u001b[0m\u001b[0m\n\u001b[0m\u001b[0;32m    208\u001b[0m     \u001b[1;32mif\u001b[0m \u001b[1;34m'retina'\u001b[0m \u001b[1;32min\u001b[0m \u001b[0mformats\u001b[0m \u001b[1;32mor\u001b[0m \u001b[1;34m'png2x'\u001b[0m \u001b[1;32min\u001b[0m \u001b[0mformats\u001b[0m\u001b[1;33m:\u001b[0m\u001b[1;33m\u001b[0m\u001b[0m\n\u001b[0;32m    209\u001b[0m         \u001b[0mpng_formatter\u001b[0m\u001b[1;33m.\u001b[0m\u001b[0mfor_type\u001b[0m\u001b[1;33m(\u001b[0m\u001b[0mFigure\u001b[0m\u001b[1;33m,\u001b[0m \u001b[1;32mlambda\u001b[0m \u001b[0mfig\u001b[0m\u001b[1;33m:\u001b[0m \u001b[0mretina_figure\u001b[0m\u001b[1;33m(\u001b[0m\u001b[0mfig\u001b[0m\u001b[1;33m,\u001b[0m \u001b[1;33m**\u001b[0m\u001b[0mkwargs\u001b[0m\u001b[1;33m)\u001b[0m\u001b[1;33m)\u001b[0m\u001b[1;33m\u001b[0m\u001b[0m\n",
      "\u001b[1;32m/home/hobs/.virtualenvs/totalgood/lib/python2.7/site-packages/IPython/core/pylabtools.pyc\u001b[0m in \u001b[0;36mprint_figure\u001b[1;34m(fig, fmt, bbox_inches, **kwargs)\u001b[0m\n\u001b[0;32m    115\u001b[0m \u001b[1;33m\u001b[0m\u001b[0m\n\u001b[0;32m    116\u001b[0m     \u001b[0mbytes_io\u001b[0m \u001b[1;33m=\u001b[0m \u001b[0mBytesIO\u001b[0m\u001b[1;33m(\u001b[0m\u001b[1;33m)\u001b[0m\u001b[1;33m\u001b[0m\u001b[0m\n\u001b[1;32m--> 117\u001b[1;33m     \u001b[0mfig\u001b[0m\u001b[1;33m.\u001b[0m\u001b[0mcanvas\u001b[0m\u001b[1;33m.\u001b[0m\u001b[0mprint_figure\u001b[0m\u001b[1;33m(\u001b[0m\u001b[0mbytes_io\u001b[0m\u001b[1;33m,\u001b[0m \u001b[1;33m**\u001b[0m\u001b[0mkw\u001b[0m\u001b[1;33m)\u001b[0m\u001b[1;33m\u001b[0m\u001b[0m\n\u001b[0m\u001b[0;32m    118\u001b[0m     \u001b[0mdata\u001b[0m \u001b[1;33m=\u001b[0m \u001b[0mbytes_io\u001b[0m\u001b[1;33m.\u001b[0m\u001b[0mgetvalue\u001b[0m\u001b[1;33m(\u001b[0m\u001b[1;33m)\u001b[0m\u001b[1;33m\u001b[0m\u001b[0m\n\u001b[0;32m    119\u001b[0m     \u001b[1;32mif\u001b[0m \u001b[0mfmt\u001b[0m \u001b[1;33m==\u001b[0m \u001b[1;34m'svg'\u001b[0m\u001b[1;33m:\u001b[0m\u001b[1;33m\u001b[0m\u001b[0m\n",
      "\u001b[1;32m/home/hobs/.virtualenvs/totalgood/lib/python2.7/site-packages/matplotlib/backend_bases.pyc\u001b[0m in \u001b[0;36mprint_figure\u001b[1;34m(self, filename, dpi, facecolor, edgecolor, orientation, format, **kwargs)\u001b[0m\n\u001b[0;32m   2156\u001b[0m                     \u001b[0morientation\u001b[0m\u001b[1;33m=\u001b[0m\u001b[0morientation\u001b[0m\u001b[1;33m,\u001b[0m\u001b[1;33m\u001b[0m\u001b[0m\n\u001b[0;32m   2157\u001b[0m                     \u001b[0mdryrun\u001b[0m\u001b[1;33m=\u001b[0m\u001b[0mTrue\u001b[0m\u001b[1;33m,\u001b[0m\u001b[1;33m\u001b[0m\u001b[0m\n\u001b[1;32m-> 2158\u001b[1;33m                     **kwargs)\n\u001b[0m\u001b[0;32m   2159\u001b[0m                 \u001b[0mrenderer\u001b[0m \u001b[1;33m=\u001b[0m \u001b[0mself\u001b[0m\u001b[1;33m.\u001b[0m\u001b[0mfigure\u001b[0m\u001b[1;33m.\u001b[0m\u001b[0m_cachedRenderer\u001b[0m\u001b[1;33m\u001b[0m\u001b[0m\n\u001b[0;32m   2160\u001b[0m                 \u001b[0mbbox_inches\u001b[0m \u001b[1;33m=\u001b[0m \u001b[0mself\u001b[0m\u001b[1;33m.\u001b[0m\u001b[0mfigure\u001b[0m\u001b[1;33m.\u001b[0m\u001b[0mget_tightbbox\u001b[0m\u001b[1;33m(\u001b[0m\u001b[0mrenderer\u001b[0m\u001b[1;33m)\u001b[0m\u001b[1;33m\u001b[0m\u001b[0m\n",
      "\u001b[1;32m/home/hobs/.virtualenvs/totalgood/lib/python2.7/site-packages/matplotlib/backends/backend_agg.pyc\u001b[0m in \u001b[0;36mprint_png\u001b[1;34m(self, filename_or_obj, *args, **kwargs)\u001b[0m\n\u001b[0;32m    519\u001b[0m \u001b[1;33m\u001b[0m\u001b[0m\n\u001b[0;32m    520\u001b[0m     \u001b[1;32mdef\u001b[0m \u001b[0mprint_png\u001b[0m\u001b[1;33m(\u001b[0m\u001b[0mself\u001b[0m\u001b[1;33m,\u001b[0m \u001b[0mfilename_or_obj\u001b[0m\u001b[1;33m,\u001b[0m \u001b[1;33m*\u001b[0m\u001b[0margs\u001b[0m\u001b[1;33m,\u001b[0m \u001b[1;33m**\u001b[0m\u001b[0mkwargs\u001b[0m\u001b[1;33m)\u001b[0m\u001b[1;33m:\u001b[0m\u001b[1;33m\u001b[0m\u001b[0m\n\u001b[1;32m--> 521\u001b[1;33m         \u001b[0mFigureCanvasAgg\u001b[0m\u001b[1;33m.\u001b[0m\u001b[0mdraw\u001b[0m\u001b[1;33m(\u001b[0m\u001b[0mself\u001b[0m\u001b[1;33m)\u001b[0m\u001b[1;33m\u001b[0m\u001b[0m\n\u001b[0m\u001b[0;32m    522\u001b[0m         \u001b[0mrenderer\u001b[0m \u001b[1;33m=\u001b[0m \u001b[0mself\u001b[0m\u001b[1;33m.\u001b[0m\u001b[0mget_renderer\u001b[0m\u001b[1;33m(\u001b[0m\u001b[1;33m)\u001b[0m\u001b[1;33m\u001b[0m\u001b[0m\n\u001b[0;32m    523\u001b[0m         \u001b[0moriginal_dpi\u001b[0m \u001b[1;33m=\u001b[0m \u001b[0mrenderer\u001b[0m\u001b[1;33m.\u001b[0m\u001b[0mdpi\u001b[0m\u001b[1;33m\u001b[0m\u001b[0m\n",
      "\u001b[1;32m/home/hobs/.virtualenvs/totalgood/lib/python2.7/site-packages/matplotlib/backends/backend_agg.pyc\u001b[0m in \u001b[0;36mdraw\u001b[1;34m(self)\u001b[0m\n\u001b[0;32m    467\u001b[0m \u001b[1;33m\u001b[0m\u001b[0m\n\u001b[0;32m    468\u001b[0m         \u001b[1;32mtry\u001b[0m\u001b[1;33m:\u001b[0m\u001b[1;33m\u001b[0m\u001b[0m\n\u001b[1;32m--> 469\u001b[1;33m             \u001b[0mself\u001b[0m\u001b[1;33m.\u001b[0m\u001b[0mfigure\u001b[0m\u001b[1;33m.\u001b[0m\u001b[0mdraw\u001b[0m\u001b[1;33m(\u001b[0m\u001b[0mself\u001b[0m\u001b[1;33m.\u001b[0m\u001b[0mrenderer\u001b[0m\u001b[1;33m)\u001b[0m\u001b[1;33m\u001b[0m\u001b[0m\n\u001b[0m\u001b[0;32m    470\u001b[0m         \u001b[1;32mfinally\u001b[0m\u001b[1;33m:\u001b[0m\u001b[1;33m\u001b[0m\u001b[0m\n\u001b[0;32m    471\u001b[0m             \u001b[0mRendererAgg\u001b[0m\u001b[1;33m.\u001b[0m\u001b[0mlock\u001b[0m\u001b[1;33m.\u001b[0m\u001b[0mrelease\u001b[0m\u001b[1;33m(\u001b[0m\u001b[1;33m)\u001b[0m\u001b[1;33m\u001b[0m\u001b[0m\n",
      "\u001b[1;32m/home/hobs/.virtualenvs/totalgood/lib/python2.7/site-packages/matplotlib/artist.pyc\u001b[0m in \u001b[0;36mdraw_wrapper\u001b[1;34m(artist, renderer, *args, **kwargs)\u001b[0m\n\u001b[0;32m     57\u001b[0m     \u001b[1;32mdef\u001b[0m \u001b[0mdraw_wrapper\u001b[0m\u001b[1;33m(\u001b[0m\u001b[0martist\u001b[0m\u001b[1;33m,\u001b[0m \u001b[0mrenderer\u001b[0m\u001b[1;33m,\u001b[0m \u001b[1;33m*\u001b[0m\u001b[0margs\u001b[0m\u001b[1;33m,\u001b[0m \u001b[1;33m**\u001b[0m\u001b[0mkwargs\u001b[0m\u001b[1;33m)\u001b[0m\u001b[1;33m:\u001b[0m\u001b[1;33m\u001b[0m\u001b[0m\n\u001b[0;32m     58\u001b[0m         \u001b[0mbefore\u001b[0m\u001b[1;33m(\u001b[0m\u001b[0martist\u001b[0m\u001b[1;33m,\u001b[0m \u001b[0mrenderer\u001b[0m\u001b[1;33m)\u001b[0m\u001b[1;33m\u001b[0m\u001b[0m\n\u001b[1;32m---> 59\u001b[1;33m         \u001b[0mdraw\u001b[0m\u001b[1;33m(\u001b[0m\u001b[0martist\u001b[0m\u001b[1;33m,\u001b[0m \u001b[0mrenderer\u001b[0m\u001b[1;33m,\u001b[0m \u001b[1;33m*\u001b[0m\u001b[0margs\u001b[0m\u001b[1;33m,\u001b[0m \u001b[1;33m**\u001b[0m\u001b[0mkwargs\u001b[0m\u001b[1;33m)\u001b[0m\u001b[1;33m\u001b[0m\u001b[0m\n\u001b[0m\u001b[0;32m     60\u001b[0m         \u001b[0mafter\u001b[0m\u001b[1;33m(\u001b[0m\u001b[0martist\u001b[0m\u001b[1;33m,\u001b[0m \u001b[0mrenderer\u001b[0m\u001b[1;33m)\u001b[0m\u001b[1;33m\u001b[0m\u001b[0m\n\u001b[0;32m     61\u001b[0m \u001b[1;33m\u001b[0m\u001b[0m\n",
      "\u001b[1;32m/home/hobs/.virtualenvs/totalgood/lib/python2.7/site-packages/matplotlib/figure.pyc\u001b[0m in \u001b[0;36mdraw\u001b[1;34m(self, renderer)\u001b[0m\n\u001b[0;32m   1083\u001b[0m         \u001b[0mdsu\u001b[0m\u001b[1;33m.\u001b[0m\u001b[0msort\u001b[0m\u001b[1;33m(\u001b[0m\u001b[0mkey\u001b[0m\u001b[1;33m=\u001b[0m\u001b[0mitemgetter\u001b[0m\u001b[1;33m(\u001b[0m\u001b[1;36m0\u001b[0m\u001b[1;33m)\u001b[0m\u001b[1;33m)\u001b[0m\u001b[1;33m\u001b[0m\u001b[0m\n\u001b[0;32m   1084\u001b[0m         \u001b[1;32mfor\u001b[0m \u001b[0mzorder\u001b[0m\u001b[1;33m,\u001b[0m \u001b[0ma\u001b[0m\u001b[1;33m,\u001b[0m \u001b[0mfunc\u001b[0m\u001b[1;33m,\u001b[0m \u001b[0margs\u001b[0m \u001b[1;32min\u001b[0m \u001b[0mdsu\u001b[0m\u001b[1;33m:\u001b[0m\u001b[1;33m\u001b[0m\u001b[0m\n\u001b[1;32m-> 1085\u001b[1;33m             \u001b[0mfunc\u001b[0m\u001b[1;33m(\u001b[0m\u001b[1;33m*\u001b[0m\u001b[0margs\u001b[0m\u001b[1;33m)\u001b[0m\u001b[1;33m\u001b[0m\u001b[0m\n\u001b[0m\u001b[0;32m   1086\u001b[0m \u001b[1;33m\u001b[0m\u001b[0m\n\u001b[0;32m   1087\u001b[0m         \u001b[0mrenderer\u001b[0m\u001b[1;33m.\u001b[0m\u001b[0mclose_group\u001b[0m\u001b[1;33m(\u001b[0m\u001b[1;34m'figure'\u001b[0m\u001b[1;33m)\u001b[0m\u001b[1;33m\u001b[0m\u001b[0m\n",
      "\u001b[1;32m/home/hobs/.virtualenvs/totalgood/lib/python2.7/site-packages/mpl_toolkits/mplot3d/axes3d.pyc\u001b[0m in \u001b[0;36mdraw\u001b[1;34m(self, renderer)\u001b[0m\n\u001b[0;32m    252\u001b[0m         \u001b[1;31m# Calculate projection of collections and zorder them\u001b[0m\u001b[1;33m\u001b[0m\u001b[1;33m\u001b[0m\u001b[0m\n\u001b[0;32m    253\u001b[0m         zlist = [(col.do_3d_projection(renderer), col) \\\n\u001b[1;32m--> 254\u001b[1;33m                  for col in self.collections]\n\u001b[0m\u001b[0;32m    255\u001b[0m         \u001b[0mzlist\u001b[0m\u001b[1;33m.\u001b[0m\u001b[0msort\u001b[0m\u001b[1;33m(\u001b[0m\u001b[0mkey\u001b[0m\u001b[1;33m=\u001b[0m\u001b[0mitemgetter\u001b[0m\u001b[1;33m(\u001b[0m\u001b[1;36m0\u001b[0m\u001b[1;33m)\u001b[0m\u001b[1;33m,\u001b[0m \u001b[0mreverse\u001b[0m\u001b[1;33m=\u001b[0m\u001b[0mTrue\u001b[0m\u001b[1;33m)\u001b[0m\u001b[1;33m\u001b[0m\u001b[0m\n\u001b[0;32m    256\u001b[0m         \u001b[1;32mfor\u001b[0m \u001b[0mi\u001b[0m\u001b[1;33m,\u001b[0m \u001b[1;33m(\u001b[0m\u001b[0mz\u001b[0m\u001b[1;33m,\u001b[0m \u001b[0mcol\u001b[0m\u001b[1;33m)\u001b[0m \u001b[1;32min\u001b[0m \u001b[0menumerate\u001b[0m\u001b[1;33m(\u001b[0m\u001b[0mzlist\u001b[0m\u001b[1;33m)\u001b[0m\u001b[1;33m:\u001b[0m\u001b[1;33m\u001b[0m\u001b[0m\n",
      "\u001b[1;31mAttributeError\u001b[0m: 'PathCollection' object has no attribute 'do_3d_projection'"
     ]
    },
    {
     "data": {
      "text/plain": [
       "<matplotlib.figure.Figure at 0x47cf2d0>"
      ]
     },
     "metadata": {},
     "output_type": "display_data"
    }
   ],
   "source": [
    "from mpl_toolkits.mplot3d import Axes3D\n",
    "from matplotlib import pyplot as plt\n",
    "fig = plt.figure()\n",
    "ax3d = Axes3D(fig)\n",
    "\n",
    "x = np.array(s[0] for s in scores)\n",
    "y = np.array(s[1] for s in scores)\n",
    "z = np.array(s[2] for s in scores)\n",
    "ax3d.scatter(x, y, z, zdir=u'z', s=20, c=u'b', depthshade=True)"
   ]
  },
  {
   "cell_type": "markdown",
   "metadata": {},
   "source": [
    "sklearn on selecting the number of boosting iterations using [out-of-bag estimates](# regarding selection of number of iterations: \n",
    "http://scikit-learn.org/stable/auto_examples/ensemble/plot_gradient_boosting_oob.html#example-ensemble-plot-gradient-boosting-oob-py)"
   ]
  },
  {
   "cell_type": "code",
   "execution_count": 18,
   "metadata": {
    "collapsed": false
   },
   "outputs": [],
   "source": [
    "# Challenge: Add the time it takes to train and test a learner to the previous \"n_estimators vs score\" graph\n",
    "# Play with the 'max features' in a similar way.  (i.e., look for a good value for it)\n",
    "# What are the parameters of the best GradientBoostingClassifier you can make? \n",
    "#   (and did you split your data into train and test sets?)"
   ]
  },
  {
   "cell_type": "code",
   "execution_count": 19,
   "metadata": {
    "collapsed": false
   },
   "outputs": [],
   "source": [
    "# Graph the effect the number of estimators has on performance where n_estimators is in [1,50]"
   ]
  },
  {
   "cell_type": "code",
   "execution_count": 20,
   "metadata": {
    "collapsed": false
   },
   "outputs": [],
   "source": [
    "# Explore the relation between n_estimators and learning_rate"
   ]
  },
  {
   "cell_type": "code",
   "execution_count": 21,
   "metadata": {
    "collapsed": false
   },
   "outputs": [],
   "source": [
    "# Pick a good set of paramters (n_estimators, learning_rate, max_depth)"
   ]
  },
  {
   "cell_type": "markdown",
   "metadata": {},
   "source": [
    "## Other Variants and Final Challenges:"
   ]
  },
  {
   "cell_type": "code",
   "execution_count": 22,
   "metadata": {
    "collapsed": false
   },
   "outputs": [],
   "source": [
    "# As in Ho 1995, add processed features and re-train a learner of your choice."
   ]
  },
  {
   "cell_type": "code",
   "execution_count": 23,
   "metadata": {
    "collapsed": false
   },
   "outputs": [],
   "source": [
    "# Train/test split.  (careful so all classes are represented in both data sets)"
   ]
  },
  {
   "cell_type": "code",
   "execution_count": 24,
   "metadata": {
    "collapsed": false
   },
   "outputs": [
    {
     "data": {
      "text/plain": [
       "' Very random trees.  (even the decisions are random)'"
      ]
     },
     "execution_count": 24,
     "metadata": {},
     "output_type": "execute_result"
    }
   ],
   "source": [
    "\"\"\" Very random trees.  (even the decisions are random)\"\"\"\n",
    "# http://scikit-learn.org/stable/modules/ensemble.html#extremely-randomized-trees\n",
    "# Get ExtraTreesClassifier working on digits dataset.  Pick some good parameters"
   ]
  },
  {
   "cell_type": "code",
   "execution_count": 25,
   "metadata": {
    "collapsed": false
   },
   "outputs": [],
   "source": [
    "# Compare performance of ExtraTreesClassifier to RandomForestClassifier"
   ]
  },
  {
   "cell_type": "code",
   "execution_count": 27,
   "metadata": {
    "collapsed": false
   },
   "outputs": [
    {
     "data": {
      "text/plain": [
       "' Play with AdaBoost or Bagging objects directly '"
      ]
     },
     "execution_count": 27,
     "metadata": {},
     "output_type": "execute_result"
    }
   ],
   "source": [
    "\"\"\" Play with AdaBoost or Bagging objects directly \"\"\"\n",
    "# if you aren't already, switch over to using the AdaBoost or Bagging Classifiers given in sklearn.ensemble to create a forest.\n",
    "# Then use this framework to drop in a different classifier as a weak learner and compare your new predictor to your old random forest"
   ]
  },
  {
   "cell_type": "markdown",
   "metadata": {},
   "source": [
    "## Other Datasets:\n",
    "* \"the\" MNIST [handwritten digits dataset](http://yann.lecun.com/exdb/mnist/)\n",
    "* [Housing Prices](http://www.cs.toronto.edu/~delve/data/census-house/desc.html)"
   ]
  }
 ],
 "metadata": {
  "kernelspec": {
   "display_name": "Python 2",
   "language": "python",
   "name": "python2"
  },
  "language_info": {
   "codemirror_mode": {
    "name": "ipython",
    "version": 2
   },
   "file_extension": ".py",
   "mimetype": "text/x-python",
   "name": "python",
   "nbconvert_exporter": "python",
   "pygments_lexer": "ipython2",
   "version": "2.7.5"
  }
 },
 "nbformat": 4,
 "nbformat_minor": 0
}
